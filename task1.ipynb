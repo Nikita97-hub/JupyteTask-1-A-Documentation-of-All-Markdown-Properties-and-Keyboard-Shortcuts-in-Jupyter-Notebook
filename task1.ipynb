{
 "cells": [
  {
   "cell_type": "markdown",
   "id": "3aa65c04-54e5-449e-9450-a6a276f076be",
   "metadata": {},
   "source": [
    "# Lets discuss about heading"
   ]
  },
  {
   "cell_type": "markdown",
   "id": "1820ecd2-78d4-4952-9add-9e2c5c532336",
   "metadata": {},
   "source": [
    "*For making heading first we will change seeting from code to markdown."
   ]
  },
  {
   "cell_type": "markdown",
   "id": "fbf205aa-4acf-4ff7-ae98-80e7d4f6d29b",
   "metadata": {},
   "source": [
    "* We will user # for header lines "
   ]
  },
  {
   "cell_type": "markdown",
   "id": "c9d08710-9209-4522-ae07-7192f36126b5",
   "metadata": {},
   "source": [
    "For Heading 1 We have to use single Hashtag # -- Example #Heading1\n",
    "For heading 2 we have to user double ## -- Example ##heading2 &\n",
    "For heading 3 we have to user triple ### --- Example ###heading3  and so on "
   ]
  },
  {
   "cell_type": "markdown",
   "id": "dbb50c48-b0d3-4153-8ba3-586ca403c987",
   "metadata": {},
   "source": [
    "*Note -- So, the more # symbols you add, the smaller the heading becomes & type should be Markdown always\n"
   ]
  },
  {
   "cell_type": "markdown",
   "id": "5ff7a140-a1c8-4198-9fd3-0e1659ad7ee5",
   "metadata": {},
   "source": [
    "# Now lets jump to text formatting"
   ]
  },
  {
   "cell_type": "markdown",
   "id": "e2ca31d5-1169-4757-bddb-966efa83f87e",
   "metadata": {},
   "source": [
    "*Bullet Point"
   ]
  },
  {
   "cell_type": "markdown",
   "id": "12c4fbe7-bc2a-4530-85ec-4c8e4d44bc3a",
   "metadata": {},
   "source": [
    "To format a data we have to use bullet points \n",
    "we can user \"*\", \"-\",\"+\"\n",
    "\n",
    "Example\n",
    "- Finish homework\n",
    "- Read a book\n",
    "- Exercise\n",
    "And so on......"
   ]
  },
  {
   "cell_type": "markdown",
   "id": "8cb9f683-2fe8-4db4-a75e-c381d61cdb25",
   "metadata": {},
   "source": [
    "#Bold text "
   ]
  },
  {
   "cell_type": "markdown",
   "id": "f4e0c597-ea63-4402-8456-56b047a3dda0",
   "metadata": {},
   "source": [
    "**This text is bold in a Jupyter Notebook Markdown cell.**"
   ]
  },
  {
   "cell_type": "markdown",
   "id": "046a90e0-0007-4289-8363-d3eecb5e011c",
   "metadata": {},
   "source": [
    "In Markdown, double asterisks (**) or  \"\"__\"\"  are used to bold text:\n"
   ]
  },
  {
   "cell_type": "markdown",
   "id": "2987c739-2a95-422a-b183-597d6b16cd95",
   "metadata": {},
   "source": [
    "*Italic Text"
   ]
  },
  {
   "cell_type": "markdown",
   "id": "405d5dc1-1903-4bb6-b425-5142ba4220c1",
   "metadata": {},
   "source": [
    "In the Markdown cell, we can use either single asterisks or single underscores to italicize text. For example:\n",
    "\n",
    "*This text is italic using single asterisks.*\n",
    "\n",
    "_This text is italic using single underscores._\n"
   ]
  },
  {
   "cell_type": "markdown",
   "id": "84a8ce67-fde4-49cd-aa4c-a95dda33bb75",
   "metadata": {},
   "source": [
    "*This text is italic using single asterisks.*"
   ]
  },
  {
   "cell_type": "markdown",
   "id": "9cf15769-f68d-46f6-80d0-98441036336c",
   "metadata": {},
   "source": [
    "*Strikethrough"
   ]
  },
  {
   "cell_type": "raw",
   "id": "b596f0c8-7562-4595-8e11-a679900ba9ae",
   "metadata": {},
   "source": [
    "In Markdown, we can use double tildes (~~) to create strikethrough text:\n",
    "Exaple  ~~This text is strikethrough in Markdown.~~"
   ]
  },
  {
   "cell_type": "markdown",
   "id": "48936a35-715a-4b94-9a2a-5fcd97391c9b",
   "metadata": {},
   "source": [
    "~~This text is strikethrough in Markdown.~~"
   ]
  },
  {
   "cell_type": "raw",
   "id": "ac6fbd80-bc39-4abb-8c02-5267d71005ff",
   "metadata": {},
   "source": [
    " #Bold and italic"
   ]
  },
  {
   "cell_type": "raw",
   "id": "dae87380-8983-4f52-a87d-952abff32192",
   "metadata": {},
   "source": [
    "In Markdown, we can use triple asterisks or a combination of double asterisks and single asterisks/underscores to make text both bold and italic:\n",
    "\n",
    "Ex -- **_This text is both bold and italic._**\n",
    "   ***This text is both bold and italic.***"
   ]
  },
  {
   "cell_type": "markdown",
   "id": "2b94b422-9f12-408a-925d-04d76f70ebbf",
   "metadata": {},
   "source": [
    "**_This text is both bold and italic._**"
   ]
  },
  {
   "cell_type": "markdown",
   "id": "105a8e11-6d86-44dc-8347-165fcce819f4",
   "metadata": {},
   "source": [
    "***This text is both bold and italic.***"
   ]
  },
  {
   "cell_type": "raw",
   "id": "48b8e6a1-a24d-4baa-96aa-5c90f7c87afa",
   "metadata": {},
   "source": [
    "1. Switching Modes\n",
    "\n",
    "Enter: Switch to edit mode\n",
    "Esc: Switch to command mode\n",
    "Edit Mode (green border, for editing cells)\n",
    "Ctrl + Enter: Run the current cell\n",
    "Shift + Enter: Run the current cell and move to the next cell\n",
    "Alt + Enter: Run the current cell and insert a new cell below\n",
    "2. Command Mode Shortcuts\n",
    "Running Cells:\n",
    "Shift + Enter: Run cell and select below\n",
    "Ctrl + Enter: Run cell and stay in the same cell\n",
    "Alt + Enter: Run cell and insert a new cell below\n",
    "Managing Cells:\n",
    "A: Insert cell above\n",
    "B: Insert cell below\n",
    "X: Cut selected cell\n",
    "C: Copy selected cell\n",
    "V: Paste cell below\n",
    "Shift + V: Paste cell above\n",
    "D, D (press D twice): Delete selected cell\n",
    "Z: Undo cell deletion\n",
    "Shift + M: Merge selected cells\n",
    "Cell Types:\n",
    "Y: Change cell to code\n",
    "M: Change cell to Markdown\n",
    "R: Change cell to raw\n",
    "1-6: Convert to heading 1-6 in Markdown cells\n",
    "Navigation:\n",
    "Up and Down arrow keys: Move to the cell above/below\n",
    "K: Move to the cell above\n",
    "J: Move to the cell below\n",
    "Ctrl + Shift + -: Split the cell at the cursor\n",
    "Kernel Operations:\n",
    "0, 0 (press 0 twice): Restart the kernel\n",
    "I, I (press I twice): Interrupt the kernel\n",
    "3. Edit Mode Shortcuts\n",
    "Basic Editing:\n",
    "Ctrl + A: Select all text in the cell\n",
    "Ctrl + Z: Undo\n",
    "Ctrl + Shift + Z: Redo\n",
    "Ctrl + Y: Redo\n",
    "Ctrl + Home: Go to the beginning of the cell\n",
    "Ctrl + End: Go to the end of the cell\n",
    "Indentation:\n",
    "Tab: Indent selected text or autocomplete\n",
    "Shift + Tab: Dedent selected text or show tooltip\n",
    "Text Editing:\n",
    "Ctrl + Left: Move cursor to the beginning of the previous word\n",
    "Ctrl + Right: Move cursor to the beginning of the next word\n",
    "Ctrl + Backspace: Delete the previous word\n",
    "Ctrl + Delete: Delete the next word\n",
    "4. Markdown Cell Shortcuts\n",
    "Bold Text:\n",
    "**Bold**: Add double asterisks around text.\n",
    "Italic Text:\n",
    "_Italic_: Add single underscores around text.\n",
    "Code:\n",
    "`Code`: Add single backticks around text.\n",
    "Strikethrough:\n",
    "~~Strikethrough~~: Add double tildes around text.\n",
    "Lists:\n",
    "- or *: Start an unordered list.\n",
    "1.: Start an ordered list.\n",
    "5. Viewing All Shortcuts\n",
    "Press H in Command Mode: This opens a list of all keyboard shortcuts available in Jupyter Notebooks."
   ]
  },
  {
   "cell_type": "code",
   "execution_count": null,
   "id": "e7832a48-17b3-49b9-9b30-393c9e3b1724",
   "metadata": {},
   "outputs": [],
   "source": []
  }
 ],
 "metadata": {
  "kernelspec": {
   "display_name": "Python 3 (ipykernel)",
   "language": "python",
   "name": "python3"
  },
  "language_info": {
   "codemirror_mode": {
    "name": "ipython",
    "version": 3
   },
   "file_extension": ".py",
   "mimetype": "text/x-python",
   "name": "python",
   "nbconvert_exporter": "python",
   "pygments_lexer": "ipython3",
   "version": "3.12.4"
  }
 },
 "nbformat": 4,
 "nbformat_minor": 5
}
